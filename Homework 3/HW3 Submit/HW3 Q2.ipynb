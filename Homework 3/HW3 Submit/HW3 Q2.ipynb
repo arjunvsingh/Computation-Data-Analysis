{
 "cells": [
  {
   "cell_type": "markdown",
   "metadata": {},
   "source": [
    "# Q2\n",
    "\n",
    "## Part a"
   ]
  },
  {
   "cell_type": "code",
   "execution_count": 1,
   "metadata": {},
   "outputs": [],
   "source": [
    "import pandas as pd\n",
    "from sklearn.model_selection import train_test_split\n",
    "from sklearn.naive_bayes import GaussianNB\n",
    "from sklearn.linear_model import LogisticRegression\n",
    "from sklearn.neighbors import KNeighborsClassifier\n",
    "import matplotlib.pyplot as plt\n",
    "from matplotlib.colors import ListedColormap\n",
    "import numpy as np\n",
    "import scipy.io as sio\n"
   ]
  },
  {
   "cell_type": "code",
   "execution_count": 2,
   "metadata": {},
   "outputs": [],
   "source": [
    "data = pd.read_csv(\"marriage.csv\",header=None)"
   ]
  },
  {
   "cell_type": "code",
   "execution_count": 3,
   "metadata": {},
   "outputs": [],
   "source": [
    "x = data.iloc[:,:-1]\n",
    "y = data.iloc[:,-1]"
   ]
  },
  {
   "cell_type": "code",
   "execution_count": 4,
   "metadata": {},
   "outputs": [],
   "source": [
    "xtrain, xtest, ytrain,ytest = train_test_split(x,y, train_size = 0.8)"
   ]
  },
  {
   "cell_type": "code",
   "execution_count": 5,
   "metadata": {},
   "outputs": [],
   "source": [
    "NBClassifier = GaussianNB()\n",
    "LRClassifier = LogisticRegression()\n",
    "KNNClassifier = KNeighborsClassifier()"
   ]
  },
  {
   "cell_type": "code",
   "execution_count": 6,
   "metadata": {},
   "outputs": [
    {
     "name": "stderr",
     "output_type": "stream",
     "text": [
      "/Users/ajspsp/opt/anaconda3/lib/python3.7/site-packages/sklearn/linear_model/logistic.py:432: FutureWarning: Default solver will be changed to 'lbfgs' in 0.22. Specify a solver to silence this warning.\n",
      "  FutureWarning)\n"
     ]
    },
    {
     "data": {
      "text/plain": [
       "KNeighborsClassifier(algorithm='auto', leaf_size=30, metric='minkowski',\n",
       "                     metric_params=None, n_jobs=None, n_neighbors=5, p=2,\n",
       "                     weights='uniform')"
      ]
     },
     "execution_count": 6,
     "metadata": {},
     "output_type": "execute_result"
    }
   ],
   "source": [
    "NBClassifier.fit(xtrain,ytrain)\n",
    "LRClassifier.fit(xtrain,ytrain)\n",
    "KNNClassifier.fit(xtrain,ytrain)"
   ]
  },
  {
   "cell_type": "code",
   "execution_count": 7,
   "metadata": {},
   "outputs": [
    {
     "name": "stdout",
     "output_type": "stream",
     "text": [
      "The accuracy of the Naive Bayes classifier is 97.06%\n",
      "The accuracy of the Logistic Regression classifier is 91.18%\n",
      "The accuracy of the K Nearest Neighbours classifier is 97.06%\n"
     ]
    }
   ],
   "source": [
    "print(\"The accuracy of the Naive Bayes classifier is {:.2f}%\".format(NBClassifier.score(xtest,ytest)*100))\n",
    "print(\"The accuracy of the Logistic Regression classifier is {:.2f}%\".format(LRClassifier.score(xtest,ytest)*100))\n",
    "print(\"The accuracy of the K Nearest Neighbours classifier is {:.2f}%\".format(KNNClassifier.score(xtest,ytest)*100))"
   ]
  },
  {
   "cell_type": "markdown",
   "metadata": {},
   "source": [
    "## Part b\n",
    "Using first 2 features"
   ]
  },
  {
   "cell_type": "code",
   "execution_count": 8,
   "metadata": {},
   "outputs": [],
   "source": [
    "x = data.iloc[:,0:2]\n",
    "y = data.iloc[:,-1]\n",
    "xtrain, xtest, ytrain,ytest = train_test_split(x,y, train_size = 0.8)"
   ]
  },
  {
   "cell_type": "code",
   "execution_count": 9,
   "metadata": {},
   "outputs": [
    {
     "name": "stderr",
     "output_type": "stream",
     "text": [
      "/Users/ajspsp/opt/anaconda3/lib/python3.7/site-packages/sklearn/linear_model/logistic.py:432: FutureWarning: Default solver will be changed to 'lbfgs' in 0.22. Specify a solver to silence this warning.\n",
      "  FutureWarning)\n"
     ]
    },
    {
     "data": {
      "text/plain": [
       "KNeighborsClassifier(algorithm='auto', leaf_size=30, metric='minkowski',\n",
       "                     metric_params=None, n_jobs=None, n_neighbors=5, p=2,\n",
       "                     weights='uniform')"
      ]
     },
     "execution_count": 9,
     "metadata": {},
     "output_type": "execute_result"
    }
   ],
   "source": [
    "NBClassifier = GaussianNB()\n",
    "LRClassifier = LogisticRegression()\n",
    "KNNClassifier = KNeighborsClassifier()\n",
    "NBClassifier.fit(xtrain,ytrain)\n",
    "LRClassifier.fit(xtrain,ytrain)\n",
    "KNNClassifier.fit(xtrain,ytrain)"
   ]
  },
  {
   "cell_type": "code",
   "execution_count": 10,
   "metadata": {},
   "outputs": [
    {
     "name": "stdout",
     "output_type": "stream",
     "text": [
      "The accuracy of the Naive Bayes classifier is 91.18%\n",
      "The accuracy of the Logistic Regression classifier is 88.24%\n",
      "The accuracy of the K Nearest Neighbours classifier is 88.24%\n"
     ]
    }
   ],
   "source": [
    "print(\"The accuracy of the Naive Bayes classifier is {:.2f}%\".format(NBClassifier.score(xtest,ytest)*100))\n",
    "print(\"The accuracy of the Logistic Regression classifier is {:.2f}%\".format(LRClassifier.score(xtest,ytest)*100))\n",
    "print(\"The accuracy of the K Nearest Neighbours classifier is {:.2f}%\".format(KNNClassifier.score(xtest,ytest)*100))"
   ]
  },
  {
   "cell_type": "code",
   "execution_count": 11,
   "metadata": {},
   "outputs": [],
   "source": [
    "xtrain1 = xtrain.values\n",
    "xtest1 = xtest.values\n",
    "ytrain1 = ytrain.values\n",
    "ytest1 = ytest.values\n",
    "X1 = xtest.values\n",
    "h=0.1"
   ]
  },
  {
   "cell_type": "code",
   "execution_count": 12,
   "metadata": {},
   "outputs": [
    {
     "data": {
      "text/plain": [
       "[]"
      ]
     },
     "execution_count": 12,
     "metadata": {},
     "output_type": "execute_result"
    },
    {
     "data": {
      "image/png": "[encoded data removed]",
      "text/plain": [
       "<Figure size 432x288 with 1 Axes>"
      ]
     },
     "metadata": {},
     "output_type": "display_data"
    }
   ],
   "source": [
    "# Code referenced from sklearn:\n",
    "# https://scikit-learn.org/stable/auto_examples/classification/plot_classifier_comparison.html\n",
    "x_min, x_max = X1[:, 0].min() - .5, X1[:, 0].max() + .5\n",
    "y_min, y_max = X1[:, 1].min() - .5, X1[:, 1].max() + .5\n",
    "xx, yy = np.meshgrid(np.arange(x_min, x_max, h),\n",
    "                     np.arange(y_min, y_max, h))\n",
    "\n",
    "# just plot the dataset first\n",
    "cm = plt.cm.RdBu\n",
    "cm_bright = ListedColormap(['#FF0000', '#0000FF'])\n",
    "ax = plt.subplot(1,  1, 1)\n",
    "\n",
    "ax.set_title(\"Naive Bayes Classifier\")\n",
    "\n",
    "\n",
    "Z = NBClassifier.predict_proba(np.c_[xx.ravel(), yy.ravel()])[:, 1]\n",
    "\n",
    "# Put the result into a color plot\n",
    "Z = Z.reshape(xx.shape)\n",
    "ax.contourf(xx, yy, Z, cmap=cm, alpha=.8)\n",
    "\n",
    "# Plot the training points\n",
    "# ax.scatter(xtrain1[:, 0], xtrain1[:, 1], c=ytrain1, cmap=cm_bright,\n",
    "#            edgecolors='k')\n",
    "# Plot the testing points\n",
    "ax.scatter(xtest1[:, 0], xtest1[:, 1], c=ytest1, cmap=cm_bright,\n",
    "           edgecolors='k', alpha=0.6)\n",
    "\n",
    "ax.set_xlim(xx.min(), xx.max())\n",
    "ax.set_ylim(yy.min(), yy.max())\n",
    "ax.set_xticks(())\n",
    "ax.set_yticks(())"
   ]
  },
  {
   "cell_type": "code",
   "execution_count": 13,
   "metadata": {},
   "outputs": [
    {
     "data": {
      "text/plain": [
       "[]"
      ]
     },
     "execution_count": 13,
     "metadata": {},
     "output_type": "execute_result"
    },
    {
     "data": {
      "image/png": "[encoded data removed]",
      "text/plain": [
       "<Figure size 432x288 with 1 Axes>"
      ]
     },
     "metadata": {},
     "output_type": "display_data"
    }
   ],
   "source": [
    "x_min, x_max = X1[:, 0].min() - .5, X1[:, 0].max() + .5\n",
    "y_min, y_max = X1[:, 1].min() - .5, X1[:, 1].max() + .5\n",
    "xx, yy = np.meshgrid(np.arange(x_min, x_max, h),\n",
    "                     np.arange(y_min, y_max, h))\n",
    "\n",
    "# just plot the dataset first\n",
    "cm = plt.cm.RdBu\n",
    "cm_bright = ListedColormap(['#FF0000', '#0000FF'])\n",
    "ax = plt.subplot(1,  1, 1)\n",
    "\n",
    "ax.set_title(\"Logistic Regression Classifier\")\n",
    "\n",
    "\n",
    "Z = LRClassifier.predict_proba(np.c_[xx.ravel(), yy.ravel()])[:, 1]\n",
    "\n",
    "# Put the result into a color plot\n",
    "Z = Z.reshape(xx.shape)\n",
    "ax.contourf(xx, yy, Z, cmap=cm, alpha=.8)\n",
    "\n",
    "# Plot the training points\n",
    "# ax.scatter(xtrain1[:, 0], xtrain1[:, 1], c=ytrain1, cmap=cm_bright,\n",
    "#            edgecolors='k')\n",
    "# Plot the testing points\n",
    "ax.scatter(xtest1[:, 0], xtest1[:, 1], c=ytest1, cmap=cm_bright,\n",
    "           edgecolors='k', alpha=0.6)\n",
    "\n",
    "ax.set_xlim(xx.min(), xx.max())\n",
    "ax.set_ylim(yy.min(), yy.max())\n",
    "ax.set_xticks(())\n",
    "ax.set_yticks(())"
   ]
  },
  {
   "cell_type": "code",
   "execution_count": 14,
   "metadata": {},
   "outputs": [
    {
     "data": {
      "text/plain": [
       "[]"
      ]
     },
     "execution_count": 14,
     "metadata": {},
     "output_type": "execute_result"
    },
    {
     "data": {
      "image/png": "[encoded data removed]",
      "text/plain": [
       "<Figure size 432x288 with 1 Axes>"
      ]
     },
     "metadata": {},
     "output_type": "display_data"
    }
   ],
   "source": [
    "h=0.2\n",
    "x_min, x_max = X1[:, 0].min() - .5, X1[:, 0].max() + .5\n",
    "y_min, y_max = X1[:, 1].min() - .5, X1[:, 1].max() + .5\n",
    "xx, yy = np.meshgrid(np.arange(x_min, x_max, h),\n",
    "                     np.arange(y_min, y_max, h))\n",
    "\n",
    "# just plot the dataset first\n",
    "cm = plt.cm.RdBu\n",
    "cm_bright = ListedColormap(['#FF0000', '#0000FF'])\n",
    "ax = plt.subplot(1,  1, 1)\n",
    "\n",
    "ax.set_title(\"KNN Classifier\")\n",
    "\n",
    "\n",
    "Z = KNNClassifier.predict_proba(np.c_[xx.ravel(), yy.ravel()])[:, 1]\n",
    "\n",
    "# Put the result into a color plot\n",
    "Z = Z.reshape(xx.shape)\n",
    "ax.contourf(xx, yy, Z, cmap=cm, alpha=.8)\n",
    "\n",
    "# Plot the training points\n",
    "# ax.scatter(xtrain1[:, 0], xtrain1[:, 1], c=ytrain1, cmap=cm_bright,\n",
    "#            edgecolors='k')\n",
    "# Plot the testing points\n",
    "ax.scatter(xtest1[:, 0], xtest1[:, 1], c=ytest1, cmap=cm_bright,\n",
    "           edgecolors='k', alpha=0.6)\n",
    "\n",
    "ax.set_xlim(xx.min(), xx.max())\n",
    "ax.set_ylim(yy.min(), yy.max())\n",
    "ax.set_xticks(())\n",
    "ax.set_yticks(())"
   ]
  },
  {
   "cell_type": "markdown",
   "metadata": {},
   "source": [
    "# Part 2 - MNIST"
   ]
  },
  {
   "cell_type": "code",
   "execution_count": 15,
   "metadata": {},
   "outputs": [],
   "source": [
    "data = sio.loadmat('data/data.mat')\n",
    "label = sio.loadmat('data/label.mat')"
   ]
  },
  {
   "cell_type": "code",
   "execution_count": 16,
   "metadata": {},
   "outputs": [],
   "source": [
    "images = data['data']\n",
    "labels = label['trueLabel'][0]"
   ]
  },
  {
   "cell_type": "code",
   "execution_count": 17,
   "metadata": {},
   "outputs": [],
   "source": [
    "labels[labels == 2] = 0\n",
    "labels[labels == 6] = 1"
   ]
  },
  {
   "cell_type": "code",
   "execution_count": 18,
   "metadata": {},
   "outputs": [],
   "source": [
    "xtrain, xtest, ytrain,ytest = train_test_split(images.T, labels, train_size = 0.8, random_state = 10)"
   ]
  },
  {
   "cell_type": "code",
   "execution_count": 19,
   "metadata": {},
   "outputs": [
    {
     "name": "stderr",
     "output_type": "stream",
     "text": [
      "/Users/ajspsp/opt/anaconda3/lib/python3.7/site-packages/sklearn/linear_model/logistic.py:432: FutureWarning: Default solver will be changed to 'lbfgs' in 0.22. Specify a solver to silence this warning.\n",
      "  FutureWarning)\n"
     ]
    },
    {
     "data": {
      "text/plain": [
       "KNeighborsClassifier(algorithm='auto', leaf_size=30, metric='minkowski',\n",
       "                     metric_params=None, n_jobs=None, n_neighbors=5, p=2,\n",
       "                     weights='uniform')"
      ]
     },
     "execution_count": 19,
     "metadata": {},
     "output_type": "execute_result"
    }
   ],
   "source": [
    "NBClassifier = GaussianNB()\n",
    "LRClassifier = LogisticRegression()\n",
    "KNNClassifier = KNeighborsClassifier()\n",
    "NBClassifier.fit(xtrain,ytrain)\n",
    "LRClassifier.fit(xtrain,ytrain)\n",
    "KNNClassifier.fit(xtrain,ytrain)"
   ]
  },
  {
   "cell_type": "code",
   "execution_count": 20,
   "metadata": {},
   "outputs": [
    {
     "name": "stdout",
     "output_type": "stream",
     "text": [
      "The accuracy of the Naive Bayes classifier is 76.13%\n",
      "The accuracy of the Logistic Regression classifier is 97.49%\n",
      "The accuracy of the K Nearest Neighbours classifier is 99.75%\n"
     ]
    }
   ],
   "source": [
    "print(\"The accuracy of the Naive Bayes classifier is {:.2f}%\".format(NBClassifier.score(xtest,ytest)*100))\n",
    "print(\"The accuracy of the Logistic Regression classifier is {:.2f}%\".format(LRClassifier.score(xtest,ytest)*100))\n",
    "print(\"The accuracy of the K Nearest Neighbours classifier is {:.2f}%\".format(KNNClassifier.score(xtest,ytest)*100))"
   ]
  },
  {
   "cell_type": "code",
   "execution_count": null,
   "metadata": {},
   "outputs": [],
   "source": []
  }
 ],
 "metadata": {
  "kernelspec": {
   "display_name": "Python 3",
   "language": "python",
   "name": "python3"
  },
  "language_info": {
   "codemirror_mode": {
    "name": "ipython",
    "version": 3
   },
   "file_extension": ".py",
   "mimetype": "text/x-python",
   "name": "python",
   "nbconvert_exporter": "python",
   "pygments_lexer": "ipython3",
   "version": "3.7.4"
  }
 },
 "nbformat": 4,
 "nbformat_minor": 2
}
