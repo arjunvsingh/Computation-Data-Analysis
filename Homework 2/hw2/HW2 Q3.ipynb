{
 "cells": [
  {
   "cell_type": "code",
   "execution_count": 460,
   "metadata": {},
   "outputs": [],
   "source": [
    "import pandas as pd\n",
    "import scipy.io as sio\n",
    "from matplotlib import pyplot as plt\n",
    "import numpy as np\n",
    "from scipy.stats import norm, multivariate_normal\n",
    "import math\n",
    "from sklearn.metrics import confusion_matrix\n",
    "from sklearn.cluster import KMeans\n",
    "from sklearn.decomposition import PCA"
   ]
  },
  {
   "cell_type": "code",
   "execution_count": 60,
   "metadata": {},
   "outputs": [],
   "source": [
    "data = sio.loadmat('data/data.mat')"
   ]
  },
  {
   "cell_type": "code",
   "execution_count": 61,
   "metadata": {},
   "outputs": [],
   "source": [
    "images = data['data']"
   ]
  },
  {
   "cell_type": "code",
   "execution_count": 62,
   "metadata": {},
   "outputs": [],
   "source": [
    "testImage1 = images[:,0].reshape(28,28)\n",
    "testImage2 = images[:,1900].reshape(28,28)"
   ]
  },
  {
   "cell_type": "code",
   "execution_count": 63,
   "metadata": {},
   "outputs": [
    {
     "data": {
      "text/plain": [
       "<matplotlib.image.AxesImage at 0x119b90b10>"
      ]
     },
     "execution_count": 63,
     "metadata": {},
     "output_type": "execute_result"
    },
    {
     "data": {
      "image/png": "[encoded data removed]",
      "text/plain": [
       "<Figure size 432x288 with 2 Axes>"
      ]
     },
     "metadata": {
      "needs_background": "light"
     },
     "output_type": "display_data"
    }
   ],
   "source": [
    "fig, (ax1,ax2) = plt.subplots(1,2)\n",
    "ax1.imshow(testImage1.T,cmap='gray')\n",
    "ax2.imshow(testImage2.T,cmap='gray')\n"
   ]
  },
  {
   "cell_type": "markdown",
   "metadata": {},
   "source": [
    "# EM Algorithm"
   ]
  },
  {
   "cell_type": "code",
   "execution_count": 377,
   "metadata": {},
   "outputs": [
    {
     "data": {
      "text/plain": [
       "(784, 1)"
      ]
     },
     "execution_count": 377,
     "metadata": {},
     "output_type": "execute_result"
    }
   ],
   "source": [
    "X = images[:,0].reshape(784,1)\n",
    "X.shape"
   ]
  },
  {
   "cell_type": "code",
   "execution_count": 378,
   "metadata": {},
   "outputs": [],
   "source": [
    "X = images"
   ]
  },
  {
   "cell_type": "code",
   "execution_count": 379,
   "metadata": {},
   "outputs": [],
   "source": [
    "nrow, ncol = X.shape  \n",
    "r = 100\n",
    "piVec = np.ones(2)/2 "
   ]
  },
  {
   "cell_type": "code",
   "execution_count": 380,
   "metadata": {},
   "outputs": [],
   "source": [
    "cov1 = np.identity(nrow)\n",
    "cov2 = np.identity(nrow)"
   ]
  },
  {
   "cell_type": "code",
   "execution_count": 381,
   "metadata": {},
   "outputs": [],
   "source": [
    "muVec1 = np.random.normal(0, 1, nrow)\n",
    "muVec2 = np.random.normal(0, 1, nrow)"
   ]
  },
  {
   "cell_type": "code",
   "execution_count": 382,
   "metadata": {},
   "outputs": [],
   "source": [
    "logLikelihood = 0\n",
    "likelihoodVec = []\n",
    "hasConverged = False\n",
    "counter = 0"
   ]
  },
  {
   "cell_type": "code",
   "execution_count": 383,
   "metadata": {},
   "outputs": [
    {
     "name": "stdout",
     "output_type": "stream",
     "text": [
      "0 -31.37506183543629\n",
      "1 64.03271352849711\n",
      "2 68.12307730648128\n",
      "3 71.94432051220662\n",
      "4 75.16205413330287\n",
      "5 76.73014783896129\n",
      "6 78.54786697560729\n",
      "7 78.3621844769062\n",
      "8 78.76926047263585\n",
      "9 78.52689366559983\n",
      "10 78.69046763529937\n",
      "11 78.51877786719335\n",
      "12 78.62730519005615\n",
      "13 78.54655411536359\n",
      "14 78.62999725521853\n",
      "15 78.57844174151316\n",
      "16 78.63827037929462\n",
      "17 78.62892631571643\n",
      "18 78.63398176439645\n",
      "19 78.63330465567154\n",
      "20 78.62461797047662\n",
      "21 78.6279885032618\n",
      "22 78.62483761067483\n",
      "23 78.6278138656837\n",
      "24 78.6253029735141\n",
      "25 78.62785402975689\n",
      "26 78.62556257157931\n",
      "27 78.6279827188257\n",
      "28 78.62568591028332\n",
      "29 78.62806072133176\n",
      "30 78.62574293521877\n",
      "31 78.62810616243976\n",
      "32 78.62576879496108\n",
      "33 78.62812994367411\n",
      "34 78.62578044891463\n",
      "35 78.62814197420435\n",
      "36 78.62578567010485\n",
      "37 78.62814785426889\n",
      "38 78.62578799993719\n",
      "39 78.62815066755248\n",
      "40 78.6257890356979\n",
      "41 78.62815198997892\n",
      "42 78.62578949471073\n",
      "43 78.62815260342789\n",
      "44 78.62578969755808\n",
      "45 78.62815288496064\n",
      "46 78.62578978698127\n",
      "47 78.6281530130618\n",
      "48 78.62578982631752\n",
      "49 78.62815307094007\n"
     ]
    }
   ],
   "source": [
    "while ~hasConverged:\n",
    "    \n",
    "    eigVal1, eigVec1 = np.linalg.eig(cov1)\n",
    "    eigVal2, eigVec2 = np.linalg.eig(cov2)\n",
    "    \n",
    "    eigVal1 = eigVal1.real\n",
    "    eigVec1 = eigVec1.real\n",
    "    eigVal2 = eigVal2.real\n",
    "    eigVec2 = eigVec2.real\n",
    "    \n",
    "    indexSort1 = eigVal1.argsort()[::-1]\n",
    "    eigVal1 = eigVal1[indexSort1[0:r]]\n",
    "    eigVec1 = eigVec1[:,indexSort1[0:r]]\n",
    "    \n",
    "    indexSort2 = eigVal2.argsort()[::-1]\n",
    "    eigVal2 = eigVal2[indexSort2[0:r]]\n",
    "    eigVec2 = eigVec2[:,indexSort2[0:r]]\n",
    "    \n",
    "    x1 = eigVec1.T @ X\n",
    "    mu1 = eigVec1.T @ muVec1\n",
    "    \n",
    "    x2 = eigVec2.T @ X\n",
    "    mu2 = eigVec2.T @ muVec2\n",
    "    \n",
    "    \n",
    "    m1Vec = []\n",
    "    m2Vec = []\n",
    "    for i in range(r):\n",
    "        m1Val = (x1[i]-mu1[i])**2/eigVal1[i]\n",
    "        m2Val = (x2[i]-mu2[i])**2/eigVal2[i]\n",
    "        \n",
    "        m1Vec.append(m1Val)\n",
    "        m2Vec.append(m2Val)\n",
    "    \n",
    "    m1 = np.sum(np.stack(m1Vec),axis=0)\n",
    "    m2 = np.sum(np.stack(m2Vec),axis=0)\n",
    "    \n",
    "    \n",
    "    D1 = 1\n",
    "    D2 = 1\n",
    "    for i in range(r):\n",
    "        D1 = D1 * eigVal1[i]**(-0.5) \n",
    "        D2 = D2 * eigVal2[i]**(-0.5) \n",
    "        \n",
    "    t1 = []\n",
    "    t2 = []\n",
    "    \n",
    "    for i in range(ncol):\n",
    "        t1.append(piVec[0] * D1 * math.exp(-0.5 * m1[i]))\n",
    "        t2.append(piVec[1] * D2 * math.exp(-0.5 * m2[i]))\n",
    "        \n",
    "    t1 = np.array(t1)\n",
    "    t2 = np.array(t2)\n",
    "    \n",
    "    \n",
    "    C = []\n",
    "    for i in range(len(t1)):\n",
    "        C.append(t1[i]+t2[i])\n",
    "\n",
    "    t1Normalized = t1/np.array(C)\n",
    "    t2Normalized = t2/np.array(C)\n",
    "    \n",
    "    currLogLikelihood = np.log(np.sum(C))\n",
    "    \n",
    "    if abs(currLogLikelihood - logLikelihood) < 1e-4:\n",
    "        hasConverged = True\n",
    "    else:\n",
    "        logLikelihood = currLogLikelihood\n",
    "        \n",
    "        piVec[0] = np.sum(t1Normalized)/ncol\n",
    "        piVec[1] = np.sum(t2Normalized)/ncol\n",
    "        \n",
    "        muVec1 = np.sum(t1Normalized*X,axis=1)/np.sum(t1Normalized)\n",
    "        muVec2 = np.sum(t2Normalized*X,axis=1)/np.sum(t2Normalized)\n",
    "        \n",
    "        temp1 = (X-np.tile(muVec1, (ncol, 1)).T)\n",
    "        cov1 = ((t1Normalized*temp1) @temp1.T)/np.sum(t1Normalized)\n",
    "        \n",
    "        temp2 = (X-np.tile(muVec2, (ncol, 1)).T)\n",
    "        cov2 = ((t2Normalized*temp2) @temp2.T)/np.sum(t2Normalized)\n",
    "    \n",
    "        \n",
    "    \n",
    "    likelihoodVec.append(currLogLikelihood)\n",
    "    print(counter, currLogLikelihood)\n",
    "    counter += 1\n",
    "    if counter == 50:\n",
    "        break\n",
    "    \n",
    "    "
   ]
  },
  {
   "cell_type": "code",
   "execution_count": 384,
   "metadata": {},
   "outputs": [
    {
     "data": {
      "text/plain": [
       "Text(0, 0.5, 'Log Likelihood')"
      ]
     },
     "execution_count": 384,
     "metadata": {},
     "output_type": "execute_result"
    },
    {
     "data": {
      "image/png": "[encoded data removed]",
      "text/plain": [
       "<Figure size 432x288 with 1 Axes>"
      ]
     },
     "metadata": {},
     "output_type": "display_data"
    }
   ],
   "source": [
    "plt.plot(np.linspace(0,20),likelihoodVec,'o-')\n",
    "plt.xlabel(\"Iteration\")\n",
    "plt.ylabel(\"Log Likelihood\")"
   ]
  },
  {
   "cell_type": "markdown",
   "metadata": {},
   "source": [
    "# Plotting Images after EM"
   ]
  },
  {
   "cell_type": "code",
   "execution_count": 385,
   "metadata": {},
   "outputs": [
    {
     "data": {
      "image/png": "[encoded data removed]",
      "text/plain": [
       "<Figure size 432x288 with 2 Axes>"
      ]
     },
     "metadata": {},
     "output_type": "display_data"
    }
   ],
   "source": [
    "\n",
    "fig, (ax1,ax2) = plt.subplots(1,2)\n",
    "ax1.imshow(muVec1.reshape(28,28).T,cmap='gray')\n",
    "\n",
    "ax2.imshow(muVec2.reshape(28,28).T,cmap='gray')\n",
    "ax1.grid(False)\n",
    "ax2.grid(False)\n"
   ]
  },
  {
   "cell_type": "code",
   "execution_count": 386,
   "metadata": {},
   "outputs": [
    {
     "name": "stdout",
     "output_type": "stream",
     "text": [
      "The weight for the images of 6 and 2 are 0.48 and 0.52, respectively \n"
     ]
    }
   ],
   "source": [
    "print(\"The weight for the images of 6 and 2 are {:.2f} and {:.2f}, respectively \".format(piVec[0],piVec[1]))"
   ]
  },
  {
   "cell_type": "markdown",
   "metadata": {},
   "source": [
    "# Q3 d"
   ]
  },
  {
   "cell_type": "code",
   "execution_count": 387,
   "metadata": {},
   "outputs": [],
   "source": [
    "labelData = sio.loadmat('data/label.mat')"
   ]
  },
  {
   "cell_type": "code",
   "execution_count": 404,
   "metadata": {},
   "outputs": [],
   "source": [
    "labels = labelData['trueLabel'][0]"
   ]
  },
  {
   "cell_type": "code",
   "execution_count": 424,
   "metadata": {},
   "outputs": [],
   "source": [
    "predictions = []\n",
    "\n",
    "for i in range(ncol):\n",
    "    if t1[i] > t2[i]:\n",
    "        predictions.append(6)\n",
    "    else:\n",
    "        predictions.append(2)"
   ]
  },
  {
   "cell_type": "code",
   "execution_count": 425,
   "metadata": {},
   "outputs": [
    {
     "data": {
      "text/plain": [
       "0.04020100502512563"
      ]
     },
     "execution_count": 425,
     "metadata": {},
     "output_type": "execute_result"
    }
   ],
   "source": [
    "np.sum(abs(labels-predictions))/ncol"
   ]
  },
  {
   "cell_type": "code",
   "execution_count": 426,
   "metadata": {},
   "outputs": [],
   "source": [
    "GMM_cm = confusion_matrix(labels,predictions)\n",
    "GMM_cm\n",
    "miss_class_GMM = (GMM_cm[0][1]+GMM_cm[1][0])/np.sum(GMM_cm)*100"
   ]
  },
  {
   "cell_type": "code",
   "execution_count": 427,
   "metadata": {},
   "outputs": [
    {
     "data": {
      "text/plain": [
       "1.0050251256281406"
      ]
     },
     "execution_count": 427,
     "metadata": {},
     "output_type": "execute_result"
    }
   ],
   "source": [
    "miss_class_GMM"
   ]
  },
  {
   "cell_type": "code",
   "execution_count": 430,
   "metadata": {},
   "outputs": [],
   "source": [
    "kmeansModel = KMeans(n_clusters=2,random_state=1)"
   ]
  },
  {
   "cell_type": "code",
   "execution_count": 432,
   "metadata": {},
   "outputs": [
    {
     "data": {
      "text/plain": [
       "KMeans(algorithm='auto', copy_x=True, init='k-means++', max_iter=300,\n",
       "       n_clusters=2, n_init=10, n_jobs=None, precompute_distances='auto',\n",
       "       random_state=1, tol=0.0001, verbose=0)"
      ]
     },
     "execution_count": 432,
     "metadata": {},
     "output_type": "execute_result"
    }
   ],
   "source": [
    "kmeansModel.fit(X.T)"
   ]
  },
  {
   "cell_type": "code",
   "execution_count": 433,
   "metadata": {},
   "outputs": [],
   "source": [
    "kmeansLabels = kmeansModel.labels_"
   ]
  },
  {
   "cell_type": "code",
   "execution_count": 452,
   "metadata": {},
   "outputs": [],
   "source": [
    "kmeanPredictions = []"
   ]
  },
  {
   "cell_type": "code",
   "execution_count": 453,
   "metadata": {},
   "outputs": [],
   "source": [
    "for i in kmeansLabels:\n",
    "    if i == 0:\n",
    "        kmeanPredictions.append(2)\n",
    "    else:\n",
    "        kmeanPredictions.append(6)"
   ]
  },
  {
   "cell_type": "code",
   "execution_count": 454,
   "metadata": {},
   "outputs": [],
   "source": [
    "kmeans_cm = confusion_matrix(labels,kmeanPredictions)\n",
    "miss_class_kmeans = (kmeans_cm[0][1]+kmeans_cm[1][0])/np.sum(kmeans_cm)*100"
   ]
  },
  {
   "cell_type": "code",
   "execution_count": 455,
   "metadata": {},
   "outputs": [
    {
     "data": {
      "text/plain": [
       "6.180904522613066"
      ]
     },
     "execution_count": 455,
     "metadata": {},
     "output_type": "execute_result"
    }
   ],
   "source": [
    "miss_class_kmeans"
   ]
  },
  {
   "cell_type": "markdown",
   "metadata": {},
   "source": [
    "# Q3 e"
   ]
  },
  {
   "cell_type": "code",
   "execution_count": 461,
   "metadata": {},
   "outputs": [],
   "source": [
    "pca = PCA(5)"
   ]
  },
  {
   "cell_type": "code",
   "execution_count": 462,
   "metadata": {},
   "outputs": [],
   "source": [
    "XPCA = pca.fit_transform(X.T).T"
   ]
  },
  {
   "cell_type": "code",
   "execution_count": 464,
   "metadata": {},
   "outputs": [],
   "source": [
    "X = XPCA"
   ]
  },
  {
   "cell_type": "code",
   "execution_count": 466,
   "metadata": {},
   "outputs": [
    {
     "name": "stdout",
     "output_type": "stream",
     "text": [
      "0 2.825766791020804\n",
      "1 2.831583887064882\n",
      "2 3.026301745006151\n",
      "3 3.1137450470265504\n",
      "4 3.1626396589403347\n",
      "5 3.219956028322282\n",
      "6 3.2841317792887956\n",
      "7 3.312379550443642\n",
      "8 3.316973077075728\n",
      "9 3.3172201768749425\n",
      "10 3.317210792899805\n",
      "11 3.317210792899805\n",
      "12 3.317210792899805\n",
      "13 3.317210792899805\n",
      "14 3.317210792899805\n",
      "15 3.317210792899805\n",
      "16 3.317210792899805\n",
      "17 3.317210792899805\n",
      "18 3.317210792899805\n",
      "19 3.317210792899805\n",
      "20 3.317210792899805\n",
      "21 3.317210792899805\n",
      "22 3.317210792899805\n",
      "23 3.317210792899805\n",
      "24 3.317210792899805\n",
      "25 3.317210792899805\n",
      "26 3.317210792899805\n",
      "27 3.317210792899805\n",
      "28 3.317210792899805\n",
      "29 3.317210792899805\n",
      "30 3.317210792899805\n",
      "31 3.317210792899805\n",
      "32 3.317210792899805\n",
      "33 3.317210792899805\n",
      "34 3.317210792899805\n",
      "35 3.317210792899805\n",
      "36 3.317210792899805\n",
      "37 3.317210792899805\n",
      "38 3.317210792899805\n",
      "39 3.317210792899805\n",
      "40 3.317210792899805\n",
      "41 3.317210792899805\n",
      "42 3.317210792899805\n",
      "43 3.317210792899805\n",
      "44 3.317210792899805\n",
      "45 3.317210792899805\n",
      "46 3.317210792899805\n",
      "47 3.317210792899805\n",
      "48 3.317210792899805\n",
      "49 3.317210792899805\n"
     ]
    }
   ],
   "source": [
    "nrow, ncol = X.shape  \n",
    "r = 5\n",
    "piVec = np.ones(2)/2 \n",
    "\n",
    "cov1 = np.identity(nrow)\n",
    "cov2 = np.identity(nrow)\n",
    "muVec1 = np.random.normal(0, 1, nrow)\n",
    "muVec2 = np.random.normal(0, 1, nrow)\n",
    "\n",
    "logLikelihood = 0\n",
    "likelihoodVec = []\n",
    "hasConverged = False\n",
    "counter = 0\n",
    "\n",
    "while ~hasConverged:\n",
    "    \n",
    "    eigVal1, eigVec1 = np.linalg.eig(cov1)\n",
    "    eigVal2, eigVec2 = np.linalg.eig(cov2)\n",
    "    \n",
    "    eigVal1 = eigVal1.real\n",
    "    eigVec1 = eigVec1.real\n",
    "    eigVal2 = eigVal2.real\n",
    "    eigVec2 = eigVec2.real\n",
    "    \n",
    "    indexSort1 = eigVal1.argsort()[::-1]\n",
    "    eigVal1 = eigVal1[indexSort1[0:r]]\n",
    "    eigVec1 = eigVec1[:,indexSort1[0:r]]\n",
    "    \n",
    "    indexSort2 = eigVal2.argsort()[::-1]\n",
    "    eigVal2 = eigVal2[indexSort2[0:r]]\n",
    "    eigVec2 = eigVec2[:,indexSort2[0:r]]\n",
    "    \n",
    "    x1 = eigVec1.T @ X\n",
    "    mu1 = eigVec1.T @ muVec1\n",
    "    \n",
    "    x2 = eigVec2.T @ X\n",
    "    mu2 = eigVec2.T @ muVec2\n",
    "    \n",
    "    \n",
    "    m1Vec = []\n",
    "    m2Vec = []\n",
    "    for i in range(r):\n",
    "        m1Val = (x1[i]-mu1[i])**2/eigVal1[i]\n",
    "        m2Val = (x2[i]-mu2[i])**2/eigVal2[i]\n",
    "        \n",
    "        m1Vec.append(m1Val)\n",
    "        m2Vec.append(m2Val)\n",
    "    \n",
    "    m1 = np.sum(np.stack(m1Vec),axis=0)\n",
    "    m2 = np.sum(np.stack(m2Vec),axis=0)\n",
    "    \n",
    "    \n",
    "    D1 = 1\n",
    "    D2 = 1\n",
    "    for i in range(r):\n",
    "        D1 = D1 * eigVal1[i]**(-0.5) \n",
    "        D2 = D2 * eigVal2[i]**(-0.5) \n",
    "        \n",
    "    t1 = []\n",
    "    t2 = []\n",
    "    \n",
    "    for i in range(ncol):\n",
    "        t1.append(piVec[0] * D1 * math.exp(-0.5 * m1[i]))\n",
    "        t2.append(piVec[1] * D2 * math.exp(-0.5 * m2[i]))\n",
    "        \n",
    "    t1 = np.array(t1)\n",
    "    t2 = np.array(t2)\n",
    "    \n",
    "    \n",
    "    C = []\n",
    "    for i in range(len(t1)):\n",
    "        C.append(t1[i]+t2[i])\n",
    "\n",
    "    t1Normalized = t1/np.array(C)\n",
    "    t2Normalized = t2/np.array(C)\n",
    "    \n",
    "    currLogLikelihood = np.log(np.sum(C))\n",
    "    \n",
    "    if abs(currLogLikelihood - logLikelihood) < 1e-4:\n",
    "        hasConverged = True\n",
    "    else:\n",
    "        logLikelihood = currLogLikelihood\n",
    "        \n",
    "        piVec[0] = np.sum(t1Normalized)/ncol\n",
    "        piVec[1] = np.sum(t2Normalized)/ncol\n",
    "        \n",
    "        muVec1 = np.sum(t1Normalized*X,axis=1)/np.sum(t1Normalized)\n",
    "        muVec2 = np.sum(t2Normalized*X,axis=1)/np.sum(t2Normalized)\n",
    "        \n",
    "        temp1 = (X-np.tile(muVec1, (ncol, 1)).T)\n",
    "        cov1 = ((t1Normalized*temp1) @temp1.T)/np.sum(t1Normalized)\n",
    "        \n",
    "        temp2 = (X-np.tile(muVec2, (ncol, 1)).T)\n",
    "        cov2 = ((t2Normalized*temp2) @temp2.T)/np.sum(t2Normalized)\n",
    "    \n",
    "        \n",
    "    \n",
    "    likelihoodVec.append(currLogLikelihood)\n",
    "    print(counter, currLogLikelihood)\n",
    "    counter += 1\n",
    "    if counter == 50:\n",
    "        break"
   ]
  },
  {
   "cell_type": "code",
   "execution_count": 467,
   "metadata": {},
   "outputs": [
    {
     "data": {
      "text/plain": [
       "Text(0, 0.5, 'Log Likelihood')"
      ]
     },
     "execution_count": 467,
     "metadata": {},
     "output_type": "execute_result"
    },
    {
     "data": {
      "image/png": "[encoded data removed]",
      "text/plain": [
       "<Figure size 432x288 with 1 Axes>"
      ]
     },
     "metadata": {},
     "output_type": "display_data"
    }
   ],
   "source": [
    "plt.plot(np.linspace(0,20),likelihoodVec,'o-')\n",
    "plt.xlabel(\"Iteration\")\n",
    "plt.ylabel(\"Log Likelihood\")"
   ]
  },
  {
   "cell_type": "code",
   "execution_count": 468,
   "metadata": {},
   "outputs": [],
   "source": [
    "predictions = []\n",
    "\n",
    "for i in range(ncol):\n",
    "    if t1[i] > t2[i]:\n",
    "        predictions.append(6)\n",
    "    else:\n",
    "        predictions.append(2)\n",
    "\n",
    "GMM_cm = confusion_matrix(labels,predictions)\n",
    "GMM_cm\n",
    "miss_class_GMM = (GMM_cm[0][1]+GMM_cm[1][0])/np.sum(GMM_cm)*100"
   ]
  },
  {
   "cell_type": "code",
   "execution_count": 469,
   "metadata": {},
   "outputs": [
    {
     "data": {
      "text/plain": [
       "3.3668341708542715"
      ]
     },
     "execution_count": 469,
     "metadata": {},
     "output_type": "execute_result"
    }
   ],
   "source": [
    "miss_class_GMM"
   ]
  },
  {
   "cell_type": "code",
   "execution_count": null,
   "metadata": {},
   "outputs": [],
   "source": []
  }
 ],
 "metadata": {
  "kernelspec": {
   "display_name": "Python 3",
   "language": "python",
   "name": "python3"
  },
  "language_info": {
   "codemirror_mode": {
    "name": "ipython",
    "version": 3
   },
   "file_extension": ".py",
   "mimetype": "text/x-python",
   "name": "python",
   "nbconvert_exporter": "python",
   "pygments_lexer": "ipython3",
   "version": "3.7.4"
  }
 },
 "nbformat": 4,
 "nbformat_minor": 2
}
