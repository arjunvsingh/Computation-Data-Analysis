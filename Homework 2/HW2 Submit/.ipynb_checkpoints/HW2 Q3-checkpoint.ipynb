{
 "cells": [
  {
   "cell_type": "markdown",
   "metadata": {},
   "source": [
    "# Q3"
   ]
  },
  {
   "cell_type": "markdown",
   "metadata": {},
   "source": [
    "## Part a"
   ]
  },
  {
   "cell_type": "code",
   "execution_count": 1,
   "metadata": {},
   "outputs": [],
   "source": [
    "import pandas as pd\n",
    "import scipy.io as sio\n",
    "from matplotlib import pyplot as plt\n",
    "import numpy as np\n",
    "from scipy.stats import norm, multivariate_normal\n",
    "import math\n",
    "from sklearn.metrics import confusion_matrix\n",
    "from sklearn.cluster import KMeans\n",
    "from sklearn.decomposition import PCA"
   ]
  },
  {
   "cell_type": "code",
   "execution_count": 2,
   "metadata": {},
   "outputs": [],
   "source": [
    "data = sio.loadmat('data/data.mat')"
   ]
  },
  {
   "cell_type": "code",
   "execution_count": 3,
   "metadata": {},
   "outputs": [],
   "source": [
    "images = data['data']"
   ]
  },
  {
   "cell_type": "code",
   "execution_count": 4,
   "metadata": {},
   "outputs": [],
   "source": [
    "testImage1 = images[:,0].reshape(28,28)\n",
    "testImage2 = images[:,1900].reshape(28,28)"
   ]
  },
  {
   "cell_type": "code",
   "execution_count": 5,
   "metadata": {},
   "outputs": [
    {
     "data": {
      "text/plain": [
       "<matplotlib.image.AxesImage at 0x126430310>"
      ]
     },
     "execution_count": 5,
     "metadata": {},
     "output_type": "execute_result"
    },
    {
     "data": {
      "image/png": "[encoded data removed]",
      "text/plain": [
       "<Figure size 432x288 with 2 Axes>"
      ]
     },
     "metadata": {
      "needs_background": "light"
     },
     "output_type": "display_data"
    }
   ],
   "source": [
    "fig, (ax1,ax2) = plt.subplots(1,2)\n",
    "ax1.imshow(testImage1.T,cmap='gray')\n",
    "ax2.imshow(testImage2.T,cmap='gray')\n"
   ]
  },
  {
   "cell_type": "markdown",
   "metadata": {},
   "source": [
    "# EM Algorithm"
   ]
  },
  {
   "cell_type": "code",
   "execution_count": 6,
   "metadata": {},
   "outputs": [
    {
     "data": {
      "text/plain": [
       "(784, 1)"
      ]
     },
     "execution_count": 6,
     "metadata": {},
     "output_type": "execute_result"
    }
   ],
   "source": [
    "X = images[:,0].reshape(784,1)\n",
    "X.shape"
   ]
  },
  {
   "cell_type": "code",
   "execution_count": 7,
   "metadata": {},
   "outputs": [],
   "source": [
    "X = images"
   ]
  },
  {
   "cell_type": "code",
   "execution_count": 8,
   "metadata": {},
   "outputs": [],
   "source": [
    "nrow, ncol = X.shape  \n",
    "r = 100\n",
    "piVec = np.ones(2)/2 "
   ]
  },
  {
   "cell_type": "code",
   "execution_count": 9,
   "metadata": {},
   "outputs": [],
   "source": [
    "# Initializing covariances matrices\n",
    "cov1 = np.identity(nrow)\n",
    "cov2 = np.identity(nrow)"
   ]
  },
  {
   "cell_type": "code",
   "execution_count": 10,
   "metadata": {},
   "outputs": [],
   "source": [
    "# Initializing mean vectors\n",
    "muVec1 = np.random.normal(0, 1, nrow)\n",
    "muVec2 = np.random.normal(0, 1, nrow)"
   ]
  },
  {
   "cell_type": "code",
   "execution_count": 11,
   "metadata": {},
   "outputs": [],
   "source": [
    "# Initializing vectors to store log-likelihoods\n",
    "logLikelihood = 0\n",
    "likelihoodVec = []\n",
    "hasConverged = False\n",
    "counter = 0"
   ]
  },
  {
   "cell_type": "code",
   "execution_count": 12,
   "metadata": {},
   "outputs": [
    {
     "name": "stdout",
     "output_type": "stream",
     "text": [
      "0 -48.730381490137795\n",
      "1 72.99427863917091\n",
      "2 78.64568362267632\n",
      "3 82.66249952762935\n",
      "4 84.36392446251695\n",
      "5 84.07842347283102\n",
      "6 82.70674210440929\n",
      "7 82.07230631502517\n",
      "8 81.59820040612065\n",
      "9 81.28184778328314\n",
      "10 81.51555746284329\n",
      "11 80.74248345980801\n",
      "12 80.91088758610532\n",
      "13 80.37672995332768\n",
      "14 80.36057362809116\n",
      "15 80.02214667456641\n",
      "16 80.10838924580747\n",
      "17 79.61424824963147\n",
      "18 79.29262219808774\n",
      "19 79.5037147775032\n",
      "20 78.90701107033424\n",
      "21 78.80751307690363\n",
      "22 78.6124810530186\n",
      "23 78.75466023206062\n",
      "24 78.6020809173337\n",
      "25 78.74550074869612\n",
      "26 78.61109772318015\n",
      "27 78.72613051726174\n",
      "28 78.61712300326313\n",
      "29 78.74181771304477\n",
      "30 78.6213599319172\n",
      "31 78.7500582070735\n",
      "32 78.62320769905045\n",
      "33 78.75270770969222\n",
      "34 78.62381078197646\n",
      "35 78.7536082983262\n",
      "36 78.62398800628615\n",
      "37 78.75385234985713\n",
      "38 78.62402946939334\n",
      "39 78.75390776514779\n",
      "40 78.62403532958662\n",
      "41 78.75391430577355\n",
      "42 78.6240341162644\n",
      "43 78.75391187244871\n",
      "44 78.62403260028663\n",
      "45 78.75390948103778\n",
      "46 78.62403175008946\n",
      "47 78.7539082010615\n",
      "48 78.62403137493754\n",
      "49 78.75390765020133\n"
     ]
    }
   ],
   "source": [
    "# Looping through the EM algorithm until convergence\n",
    "while ~hasConverged:\n",
    "#   Finding eigenvalues\n",
    "    eigVal1, eigVec1 = np.linalg.eig(cov1)\n",
    "    eigVal2, eigVec2 = np.linalg.eig(cov2)\n",
    "    \n",
    "    eigVal1 = eigVal1.real\n",
    "    eigVec1 = eigVec1.real\n",
    "    eigVal2 = eigVal2.real\n",
    "    eigVec2 = eigVec2.real\n",
    "    \n",
    "#   Using low-rank approximation\n",
    "    indexSort1 = eigVal1.argsort()[::-1]\n",
    "    eigVal1 = eigVal1[indexSort1[0:r]]\n",
    "    eigVec1 = eigVec1[:,indexSort1[0:r]]\n",
    "    \n",
    "    indexSort2 = eigVal2.argsort()[::-1]\n",
    "    eigVal2 = eigVal2[indexSort2[0:r]]\n",
    "    eigVec2 = eigVec2[:,indexSort2[0:r]]\n",
    "    \n",
    "    x1 = eigVec1.T @ X\n",
    "    mu1 = eigVec1.T @ muVec1\n",
    "    \n",
    "    x2 = eigVec2.T @ X\n",
    "    mu2 = eigVec2.T @ muVec2\n",
    "    \n",
    "#   Updating the m vector\n",
    "    m1Vec = []\n",
    "    m2Vec = []\n",
    "    for i in range(r):\n",
    "        m1Val = (x1[i]-mu1[i])**2/eigVal1[i]\n",
    "        m2Val = (x2[i]-mu2[i])**2/eigVal2[i]\n",
    "        m1Vec.append(m1Val)\n",
    "        m2Vec.append(m2Val)\n",
    "    \n",
    "    m1 = np.sum(np.stack(m1Vec),axis=0)\n",
    "    m2 = np.sum(np.stack(m2Vec),axis=0)\n",
    "    \n",
    "#   Updating the D vector\n",
    "    D1 = 1\n",
    "    D2 = 1\n",
    "    for i in range(r):\n",
    "        D1 = D1 * eigVal1[i]**(-0.5) \n",
    "        D2 = D2 * eigVal2[i]**(-0.5) \n",
    "        \n",
    "        \n",
    "#   Updating the tau vector\n",
    "    t1 = []\n",
    "    t2 = []\n",
    "    for i in range(ncol):\n",
    "        t1.append(piVec[0] * D1 * math.exp(-0.5 * m1[i]))\n",
    "        t2.append(piVec[1] * D2 * math.exp(-0.5 * m2[i]))\n",
    "    t1 = np.array(t1)\n",
    "    t2 = np.array(t2)\n",
    "    \n",
    "#   Normalizing\n",
    "    C = []\n",
    "    for i in range(len(t1)):\n",
    "        C.append(t1[i]+t2[i])\n",
    "    t1Normalized = t1/np.array(C)\n",
    "    t2Normalized = t2/np.array(C)\n",
    "    \n",
    "    currLogLikelihood = np.log(np.sum(C))\n",
    "    \n",
    "    if abs(currLogLikelihood - logLikelihood) < 1e-4:\n",
    "        hasConverged = True\n",
    "    else:\n",
    "#       Maximization step\n",
    "        logLikelihood = currLogLikelihood\n",
    "        \n",
    "        piVec[0] = np.sum(t1Normalized)/ncol\n",
    "        piVec[1] = np.sum(t2Normalized)/ncol\n",
    "        \n",
    "        muVec1 = np.sum(t1Normalized*X,axis=1)/np.sum(t1Normalized)\n",
    "        muVec2 = np.sum(t2Normalized*X,axis=1)/np.sum(t2Normalized)\n",
    "        \n",
    "        temp1 = (X-np.tile(muVec1, (ncol, 1)).T)\n",
    "        cov1 = ((t1Normalized*temp1) @temp1.T)/np.sum(t1Normalized)\n",
    "        \n",
    "        temp2 = (X-np.tile(muVec2, (ncol, 1)).T)\n",
    "        cov2 = ((t2Normalized*temp2) @temp2.T)/np.sum(t2Normalized)\n",
    "    \n",
    "        \n",
    "    \n",
    "    likelihoodVec.append(currLogLikelihood)\n",
    "    print(counter, currLogLikelihood)\n",
    "    counter += 1\n",
    "#   Stop after 50 iterations\n",
    "    if counter == 50:\n",
    "        break\n",
    "    \n",
    "    "
   ]
  },
  {
   "cell_type": "markdown",
   "metadata": {},
   "source": [
    "## Part b"
   ]
  },
  {
   "cell_type": "code",
   "execution_count": 384,
   "metadata": {},
   "outputs": [
    {
     "data": {
      "text/plain": [
       "Text(0, 0.5, 'Log Likelihood')"
      ]
     },
     "execution_count": 384,
     "metadata": {},
     "output_type": "execute_result"
    },
    {
     "data": {
      "image/png": "[encoded data removed]",
      "text/plain": [
       "<Figure size 432x288 with 1 Axes>"
      ]
     },
     "metadata": {},
     "output_type": "display_data"
    }
   ],
   "source": [
    "plt.plot(np.linspace(0,20),likelihoodVec,'o-')\n",
    "plt.xlabel(\"Iteration\")\n",
    "plt.ylabel(\"Log Likelihood\")"
   ]
  },
  {
   "cell_type": "markdown",
   "metadata": {},
   "source": [
    "## Part c"
   ]
  },
  {
   "cell_type": "code",
   "execution_count": 13,
   "metadata": {},
   "outputs": [
    {
     "data": {
      "image/png": "[encoded data removed]",
      "text/plain": [
       "<Figure size 432x288 with 2 Axes>"
      ]
     },
     "metadata": {
      "needs_background": "light"
     },
     "output_type": "display_data"
    }
   ],
   "source": [
    "fig, (ax1,ax2) = plt.subplots(1,2)\n",
    "ax1.imshow(muVec1.reshape(28,28).T,cmap='gray')\n",
    "\n",
    "ax2.imshow(muVec2.reshape(28,28).T,cmap='gray')\n",
    "ax1.grid(False)\n",
    "ax2.grid(False)\n"
   ]
  },
  {
   "cell_type": "code",
   "execution_count": 14,
   "metadata": {},
   "outputs": [
    {
     "name": "stdout",
     "output_type": "stream",
     "text": [
      "The weight for the images of 6 and 2 are 0.48 and 0.52, respectively \n"
     ]
    }
   ],
   "source": [
    "print(\"The weight for the images of 6 and 2 are {:.2f} and {:.2f}, respectively \".format(piVec[0],piVec[1]))"
   ]
  },
  {
   "cell_type": "markdown",
   "metadata": {},
   "source": [
    "## Part d"
   ]
  },
  {
   "cell_type": "code",
   "execution_count": 15,
   "metadata": {},
   "outputs": [],
   "source": [
    "labelData = sio.loadmat('data/label.mat')"
   ]
  },
  {
   "cell_type": "code",
   "execution_count": 16,
   "metadata": {},
   "outputs": [],
   "source": [
    "labels = labelData['trueLabel'][0]"
   ]
  },
  {
   "cell_type": "code",
   "execution_count": 17,
   "metadata": {},
   "outputs": [],
   "source": [
    "predictions = []\n",
    "\n",
    "for i in range(ncol):\n",
    "    if t1[i] > t2[i]:\n",
    "        predictions.append(6)\n",
    "    else:\n",
    "        predictions.append(2)"
   ]
  },
  {
   "cell_type": "code",
   "execution_count": 19,
   "metadata": {},
   "outputs": [],
   "source": [
    "GMMclassification = confusion_matrix(labels,predictions)\n",
    "misclassified = (GMMclassification[0][1]+GMMclassification[1][0])/np.sum(GMMclassification)*100"
   ]
  },
  {
   "cell_type": "code",
   "execution_count": 20,
   "metadata": {},
   "outputs": [
    {
     "data": {
      "text/plain": [
       "0.7035175879396985"
      ]
     },
     "execution_count": 20,
     "metadata": {},
     "output_type": "execute_result"
    }
   ],
   "source": [
    "misclassified"
   ]
  },
  {
   "cell_type": "code",
   "execution_count": 21,
   "metadata": {},
   "outputs": [],
   "source": [
    "kmeansModel = KMeans(n_clusters=2,random_state=1)"
   ]
  },
  {
   "cell_type": "code",
   "execution_count": 22,
   "metadata": {},
   "outputs": [
    {
     "data": {
      "text/plain": [
       "KMeans(algorithm='auto', copy_x=True, init='k-means++', max_iter=300,\n",
       "       n_clusters=2, n_init=10, n_jobs=None, precompute_distances='auto',\n",
       "       random_state=1, tol=0.0001, verbose=0)"
      ]
     },
     "execution_count": 22,
     "metadata": {},
     "output_type": "execute_result"
    }
   ],
   "source": [
    "kmeansModel.fit(X.T)"
   ]
  },
  {
   "cell_type": "code",
   "execution_count": 23,
   "metadata": {},
   "outputs": [],
   "source": [
    "kmeansLabels = kmeansModel.labels_"
   ]
  },
  {
   "cell_type": "code",
   "execution_count": 24,
   "metadata": {},
   "outputs": [],
   "source": [
    "kmeanPredictions = []"
   ]
  },
  {
   "cell_type": "code",
   "execution_count": 25,
   "metadata": {},
   "outputs": [],
   "source": [
    "for i in kmeansLabels:\n",
    "    if i == 0:\n",
    "        kmeanPredictions.append(2)\n",
    "    else:\n",
    "        kmeanPredictions.append(6)"
   ]
  },
  {
   "cell_type": "code",
   "execution_count": 26,
   "metadata": {},
   "outputs": [],
   "source": [
    "kmeansclassification = confusion_matrix(labels,kmeanPredictions)\n",
    "misclassifiedkmeans= (kmeansclassification[0][1]+kmeansclassification[1][0])/np.sum(kmeansclassification)*100"
   ]
  },
  {
   "cell_type": "code",
   "execution_count": 28,
   "metadata": {},
   "outputs": [
    {
     "data": {
      "text/plain": [
       "6.180904522613066"
      ]
     },
     "execution_count": 28,
     "metadata": {},
     "output_type": "execute_result"
    }
   ],
   "source": [
    "misclassifiedkmeans"
   ]
  },
  {
   "cell_type": "markdown",
   "metadata": {},
   "source": [
    "## Part e"
   ]
  },
  {
   "cell_type": "code",
   "execution_count": 29,
   "metadata": {},
   "outputs": [],
   "source": [
    "pca = PCA(5)"
   ]
  },
  {
   "cell_type": "code",
   "execution_count": 30,
   "metadata": {},
   "outputs": [],
   "source": [
    "XPCA = pca.fit_transform(X.T).T"
   ]
  },
  {
   "cell_type": "code",
   "execution_count": 31,
   "metadata": {},
   "outputs": [],
   "source": [
    "X = XPCA"
   ]
  },
  {
   "cell_type": "code",
   "execution_count": 32,
   "metadata": {},
   "outputs": [
    {
     "name": "stdout",
     "output_type": "stream",
     "text": [
      "0 2.5781156006127834\n",
      "1 2.525550163339699\n",
      "2 2.5547296740819876\n",
      "3 2.5896360811830705\n",
      "4 2.6312103610507385\n",
      "5 2.681765774429194\n",
      "6 2.7403423190879552\n",
      "7 2.8075171246197876\n",
      "8 2.8924142107807436\n",
      "9 3.0000818180568123\n",
      "10 3.0944273186189317\n",
      "11 3.1567672610776514\n",
      "12 3.211020408677604\n",
      "13 3.2630536589084844\n",
      "14 3.298312360504723\n",
      "15 3.3129843194585296\n",
      "16 3.3164464437269876\n",
      "17 3.317003589137203\n",
      "18 3.3170686754647845\n",
      "19 3.3170686754647845\n",
      "20 3.3170686754647845\n",
      "21 3.3170686754647845\n",
      "22 3.3170686754647845\n",
      "23 3.3170686754647845\n",
      "24 3.3170686754647845\n",
      "25 3.3170686754647845\n",
      "26 3.3170686754647845\n",
      "27 3.3170686754647845\n",
      "28 3.3170686754647845\n",
      "29 3.3170686754647845\n",
      "30 3.3170686754647845\n",
      "31 3.3170686754647845\n",
      "32 3.3170686754647845\n",
      "33 3.3170686754647845\n",
      "34 3.3170686754647845\n",
      "35 3.3170686754647845\n",
      "36 3.3170686754647845\n",
      "37 3.3170686754647845\n",
      "38 3.3170686754647845\n",
      "39 3.3170686754647845\n",
      "40 3.3170686754647845\n",
      "41 3.3170686754647845\n",
      "42 3.3170686754647845\n",
      "43 3.3170686754647845\n",
      "44 3.3170686754647845\n",
      "45 3.3170686754647845\n",
      "46 3.3170686754647845\n",
      "47 3.3170686754647845\n",
      "48 3.3170686754647845\n",
      "49 3.3170686754647845\n"
     ]
    }
   ],
   "source": [
    "# Re-running the EM algorithm on the new PCA dataset\n",
    "nrow, ncol = X.shape  \n",
    "r = 5\n",
    "piVec = np.ones(2)/2 \n",
    "\n",
    "cov1 = np.identity(nrow)\n",
    "cov2 = np.identity(nrow)\n",
    "muVec1 = np.random.normal(0, 1, nrow)\n",
    "muVec2 = np.random.normal(0, 1, nrow)\n",
    "\n",
    "logLikelihood = 0\n",
    "likelihoodVec = []\n",
    "hasConverged = False\n",
    "counter = 0\n",
    "\n",
    "while ~hasConverged:\n",
    "    \n",
    "    eigVal1, eigVec1 = np.linalg.eig(cov1)\n",
    "    eigVal2, eigVec2 = np.linalg.eig(cov2)\n",
    "    \n",
    "    eigVal1 = eigVal1.real\n",
    "    eigVec1 = eigVec1.real\n",
    "    eigVal2 = eigVal2.real\n",
    "    eigVec2 = eigVec2.real\n",
    "    \n",
    "    indexSort1 = eigVal1.argsort()[::-1]\n",
    "    eigVal1 = eigVal1[indexSort1[0:r]]\n",
    "    eigVec1 = eigVec1[:,indexSort1[0:r]]\n",
    "    \n",
    "    indexSort2 = eigVal2.argsort()[::-1]\n",
    "    eigVal2 = eigVal2[indexSort2[0:r]]\n",
    "    eigVec2 = eigVec2[:,indexSort2[0:r]]\n",
    "    \n",
    "    x1 = eigVec1.T @ X\n",
    "    mu1 = eigVec1.T @ muVec1\n",
    "    \n",
    "    x2 = eigVec2.T @ X\n",
    "    mu2 = eigVec2.T @ muVec2\n",
    "    \n",
    "    \n",
    "    m1Vec = []\n",
    "    m2Vec = []\n",
    "    for i in range(r):\n",
    "        m1Val = (x1[i]-mu1[i])**2/eigVal1[i]\n",
    "        m2Val = (x2[i]-mu2[i])**2/eigVal2[i]\n",
    "        \n",
    "        m1Vec.append(m1Val)\n",
    "        m2Vec.append(m2Val)\n",
    "    \n",
    "    m1 = np.sum(np.stack(m1Vec),axis=0)\n",
    "    m2 = np.sum(np.stack(m2Vec),axis=0)\n",
    "    \n",
    "    \n",
    "    D1 = 1\n",
    "    D2 = 1\n",
    "    for i in range(r):\n",
    "        D1 = D1 * eigVal1[i]**(-0.5) \n",
    "        D2 = D2 * eigVal2[i]**(-0.5) \n",
    "        \n",
    "    t1 = []\n",
    "    t2 = []\n",
    "    \n",
    "    for i in range(ncol):\n",
    "        t1.append(piVec[0] * D1 * math.exp(-0.5 * m1[i]))\n",
    "        t2.append(piVec[1] * D2 * math.exp(-0.5 * m2[i]))\n",
    "        \n",
    "    t1 = np.array(t1)\n",
    "    t2 = np.array(t2)\n",
    "    \n",
    "    \n",
    "    C = []\n",
    "    for i in range(len(t1)):\n",
    "        C.append(t1[i]+t2[i])\n",
    "\n",
    "    t1Normalized = t1/np.array(C)\n",
    "    t2Normalized = t2/np.array(C)\n",
    "    \n",
    "    currLogLikelihood = np.log(np.sum(C))\n",
    "    \n",
    "    if abs(currLogLikelihood - logLikelihood) < 1e-4:\n",
    "        hasConverged = True\n",
    "    else:\n",
    "        logLikelihood = currLogLikelihood\n",
    "        \n",
    "        piVec[0] = np.sum(t1Normalized)/ncol\n",
    "        piVec[1] = np.sum(t2Normalized)/ncol\n",
    "        \n",
    "        muVec1 = np.sum(t1Normalized*X,axis=1)/np.sum(t1Normalized)\n",
    "        muVec2 = np.sum(t2Normalized*X,axis=1)/np.sum(t2Normalized)\n",
    "        \n",
    "        temp1 = (X-np.tile(muVec1, (ncol, 1)).T)\n",
    "        cov1 = ((t1Normalized*temp1) @temp1.T)/np.sum(t1Normalized)\n",
    "        \n",
    "        temp2 = (X-np.tile(muVec2, (ncol, 1)).T)\n",
    "        cov2 = ((t2Normalized*temp2) @temp2.T)/np.sum(t2Normalized)\n",
    "    \n",
    "        \n",
    "    \n",
    "    likelihoodVec.append(currLogLikelihood)\n",
    "    print(counter, currLogLikelihood)\n",
    "    counter += 1\n",
    "    if counter == 50:\n",
    "        break"
   ]
  },
  {
   "cell_type": "code",
   "execution_count": 33,
   "metadata": {},
   "outputs": [
    {
     "data": {
      "text/plain": [
       "Text(0, 0.5, 'Log Likelihood')"
      ]
     },
     "execution_count": 33,
     "metadata": {},
     "output_type": "execute_result"
    },
    {
     "data": {
      "image/png": "[encoded data removed]",
      "text/plain": [
       "<Figure size 432x288 with 1 Axes>"
      ]
     },
     "metadata": {
      "needs_background": "light"
     },
     "output_type": "display_data"
    }
   ],
   "source": [
    "plt.plot(np.linspace(0,20),likelihoodVec,'o-')\n",
    "plt.xlabel(\"Iteration\")\n",
    "plt.ylabel(\"Log Likelihood\")"
   ]
  },
  {
   "cell_type": "code",
   "execution_count": 36,
   "metadata": {},
   "outputs": [],
   "source": [
    "predictions = []\n",
    "\n",
    "for i in range(ncol):\n",
    "    if t1[i] > t2[i]:\n",
    "        predictions.append(2)\n",
    "    else:\n",
    "        predictions.append(6)\n",
    "\n",
    "pcaclassification = confusion_matrix(labels,predictions)\n",
    "misclassifiedpca = (pcaclassification[0][1]+pcaclassification[1][0])/np.sum(pcaclassification)*100"
   ]
  },
  {
   "cell_type": "code",
   "execution_count": 37,
   "metadata": {},
   "outputs": [
    {
     "data": {
      "text/plain": [
       "3.3668341708542715"
      ]
     },
     "execution_count": 37,
     "metadata": {},
     "output_type": "execute_result"
    }
   ],
   "source": [
    "misclassifiedpca"
   ]
  }
 ],
 "metadata": {
  "kernelspec": {
   "display_name": "Python 3",
   "language": "python",
   "name": "python3"
  },
  "language_info": {
   "codemirror_mode": {
    "name": "ipython",
    "version": 3
   },
   "file_extension": ".py",
   "mimetype": "text/x-python",
   "name": "python",
   "nbconvert_exporter": "python",
   "pygments_lexer": "ipython3",
   "version": "3.7.4"
  }
 },
 "nbformat": 4,
 "nbformat_minor": 2
}
