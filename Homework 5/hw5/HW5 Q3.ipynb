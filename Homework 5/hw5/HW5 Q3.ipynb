{
 "cells": [
  {
   "cell_type": "code",
   "execution_count": 83,
   "metadata": {},
   "outputs": [],
   "source": [
    "import pandas as pd\n",
    "from sklearn.model_selection import train_test_split\n",
    "from sklearn.linear_model import LinearRegression\n",
    "from sklearn.metrics import mean_squared_error\n",
    "import numpy as np\n",
    "import matplotlib.pyplot as plt\n",
    "from sklearn.preprocessing import PolynomialFeatures\n",
    "from sklearn.linear_model import Ridge\n",
    "from sklearn.model_selection import KFold\n",
    "from sklearn.model_selection import cross_val_score\n",
    "\n",
    "import warnings\n",
    "warnings.filterwarnings(\"ignore\")"
   ]
  },
  {
   "cell_type": "code",
   "execution_count": 84,
   "metadata": {},
   "outputs": [],
   "source": [
    "# Import data\n",
    "data = pd.read_fwf('copper-new.txt', sep=',',header=None)"
   ]
  },
  {
   "cell_type": "code",
   "execution_count": 85,
   "metadata": {},
   "outputs": [
    {
     "data": {
      "text/html": [
       "<div>\n",
       "<style scoped>\n",
       "    .dataframe tbody tr th:only-of-type {\n",
       "        vertical-align: middle;\n",
       "    }\n",
       "\n",
       "    .dataframe tbody tr th {\n",
       "        vertical-align: top;\n",
       "    }\n",
       "\n",
       "    .dataframe thead th {\n",
       "        text-align: right;\n",
       "    }\n",
       "</style>\n",
       "<table border=\"1\" class=\"dataframe\">\n",
       "  <thead>\n",
       "    <tr style=\"text-align: right;\">\n",
       "      <th></th>\n",
       "      <th>0</th>\n",
       "      <th>1</th>\n",
       "    </tr>\n",
       "  </thead>\n",
       "  <tbody>\n",
       "    <tr>\n",
       "      <th>0</th>\n",
       "      <td>0.591</td>\n",
       "      <td>24.41</td>\n",
       "    </tr>\n",
       "    <tr>\n",
       "      <th>1</th>\n",
       "      <td>4.703</td>\n",
       "      <td>54.98</td>\n",
       "    </tr>\n",
       "    <tr>\n",
       "      <th>2</th>\n",
       "      <td>9.470</td>\n",
       "      <td>89.57</td>\n",
       "    </tr>\n",
       "    <tr>\n",
       "      <th>3</th>\n",
       "      <td>11.615</td>\n",
       "      <td>114.26</td>\n",
       "    </tr>\n",
       "    <tr>\n",
       "      <th>4</th>\n",
       "      <td>12.970</td>\n",
       "      <td>133.61</td>\n",
       "    </tr>\n",
       "    <tr>\n",
       "      <th>5</th>\n",
       "      <td>15.190</td>\n",
       "      <td>202.14</td>\n",
       "    </tr>\n",
       "    <tr>\n",
       "      <th>6</th>\n",
       "      <td>16.131</td>\n",
       "      <td>250.99</td>\n",
       "    </tr>\n",
       "    <tr>\n",
       "      <th>7</th>\n",
       "      <td>16.872</td>\n",
       "      <td>321.31</td>\n",
       "    </tr>\n",
       "    <tr>\n",
       "      <th>8</th>\n",
       "      <td>16.966</td>\n",
       "      <td>333.47</td>\n",
       "    </tr>\n",
       "    <tr>\n",
       "      <th>9</th>\n",
       "      <td>17.355</td>\n",
       "      <td>373.79</td>\n",
       "    </tr>\n",
       "    <tr>\n",
       "      <th>10</th>\n",
       "      <td>17.765</td>\n",
       "      <td>422.02</td>\n",
       "    </tr>\n",
       "    <tr>\n",
       "      <th>11</th>\n",
       "      <td>17.877</td>\n",
       "      <td>447.41</td>\n",
       "    </tr>\n",
       "    <tr>\n",
       "      <th>12</th>\n",
       "      <td>18.291</td>\n",
       "      <td>522.47</td>\n",
       "    </tr>\n",
       "    <tr>\n",
       "      <th>13</th>\n",
       "      <td>18.610</td>\n",
       "      <td>549.53</td>\n",
       "    </tr>\n",
       "    <tr>\n",
       "      <th>14</th>\n",
       "      <td>0.367</td>\n",
       "      <td>20.15</td>\n",
       "    </tr>\n",
       "    <tr>\n",
       "      <th>15</th>\n",
       "      <td>2.150</td>\n",
       "      <td>39.12</td>\n",
       "    </tr>\n",
       "    <tr>\n",
       "      <th>16</th>\n",
       "      <td>7.422</td>\n",
       "      <td>73.42</td>\n",
       "    </tr>\n",
       "    <tr>\n",
       "      <th>17</th>\n",
       "      <td>12.786</td>\n",
       "      <td>134.03</td>\n",
       "    </tr>\n",
       "    <tr>\n",
       "      <th>18</th>\n",
       "      <td>14.464</td>\n",
       "      <td>179.86</td>\n",
       "    </tr>\n",
       "    <tr>\n",
       "      <th>19</th>\n",
       "      <td>16.075</td>\n",
       "      <td>262.52</td>\n",
       "    </tr>\n",
       "    <tr>\n",
       "      <th>20</th>\n",
       "      <td>17.003</td>\n",
       "      <td>337.23</td>\n",
       "    </tr>\n",
       "    <tr>\n",
       "      <th>21</th>\n",
       "      <td>17.868</td>\n",
       "      <td>432.68</td>\n",
       "    </tr>\n",
       "    <tr>\n",
       "      <th>22</th>\n",
       "      <td>16.062</td>\n",
       "      <td>253.24</td>\n",
       "    </tr>\n",
       "    <tr>\n",
       "      <th>23</th>\n",
       "      <td>17.159</td>\n",
       "      <td>346.62</td>\n",
       "    </tr>\n",
       "    <tr>\n",
       "      <th>24</th>\n",
       "      <td>17.979</td>\n",
       "      <td>450.10</td>\n",
       "    </tr>\n",
       "    <tr>\n",
       "      <th>25</th>\n",
       "      <td>18.523</td>\n",
       "      <td>552.22</td>\n",
       "    </tr>\n",
       "    <tr>\n",
       "      <th>26</th>\n",
       "      <td>19.330</td>\n",
       "      <td>656.20</td>\n",
       "    </tr>\n",
       "    <tr>\n",
       "      <th>27</th>\n",
       "      <td>1.418</td>\n",
       "      <td>33.84</td>\n",
       "    </tr>\n",
       "    <tr>\n",
       "      <th>28</th>\n",
       "      <td>5.556</td>\n",
       "      <td>60.41</td>\n",
       "    </tr>\n",
       "    <tr>\n",
       "      <th>29</th>\n",
       "      <td>9.959</td>\n",
       "      <td>94.88</td>\n",
       "    </tr>\n",
       "    <tr>\n",
       "      <th>30</th>\n",
       "      <td>13.564</td>\n",
       "      <td>147.73</td>\n",
       "    </tr>\n",
       "    <tr>\n",
       "      <th>31</th>\n",
       "      <td>15.473</td>\n",
       "      <td>206.76</td>\n",
       "    </tr>\n",
       "    <tr>\n",
       "      <th>32</th>\n",
       "      <td>16.114</td>\n",
       "      <td>237.12</td>\n",
       "    </tr>\n",
       "    <tr>\n",
       "      <th>33</th>\n",
       "      <td>17.368</td>\n",
       "      <td>372.72</td>\n",
       "    </tr>\n",
       "    <tr>\n",
       "      <th>34</th>\n",
       "      <td>18.271</td>\n",
       "      <td>495.47</td>\n",
       "    </tr>\n",
       "    <tr>\n",
       "      <th>35</th>\n",
       "      <td>18.627</td>\n",
       "      <td>544.47</td>\n",
       "    </tr>\n",
       "    <tr>\n",
       "      <th>36</th>\n",
       "      <td>0.943</td>\n",
       "      <td>28.93</td>\n",
       "    </tr>\n",
       "    <tr>\n",
       "      <th>37</th>\n",
       "      <td>3.782</td>\n",
       "      <td>49.87</td>\n",
       "    </tr>\n",
       "    <tr>\n",
       "      <th>38</th>\n",
       "      <td>8.920</td>\n",
       "      <td>85.15</td>\n",
       "    </tr>\n",
       "    <tr>\n",
       "      <th>39</th>\n",
       "      <td>13.436</td>\n",
       "      <td>143.84</td>\n",
       "    </tr>\n",
       "    <tr>\n",
       "      <th>40</th>\n",
       "      <td>15.651</td>\n",
       "      <td>226.86</td>\n",
       "    </tr>\n",
       "    <tr>\n",
       "      <th>41</th>\n",
       "      <td>16.965</td>\n",
       "      <td>339.15</td>\n",
       "    </tr>\n",
       "    <tr>\n",
       "      <th>42</th>\n",
       "      <td>17.339</td>\n",
       "      <td>393.32</td>\n",
       "    </tr>\n",
       "    <tr>\n",
       "      <th>43</th>\n",
       "      <td>18.566</td>\n",
       "      <td>524.70</td>\n",
       "    </tr>\n",
       "    <tr>\n",
       "      <th>44</th>\n",
       "      <td>19.100</td>\n",
       "      <td>623.86</td>\n",
       "    </tr>\n",
       "    <tr>\n",
       "      <th>45</th>\n",
       "      <td>2.204</td>\n",
       "      <td>39.22</td>\n",
       "    </tr>\n",
       "    <tr>\n",
       "      <th>46</th>\n",
       "      <td>10.040</td>\n",
       "      <td>96.44</td>\n",
       "    </tr>\n",
       "    <tr>\n",
       "      <th>47</th>\n",
       "      <td>13.922</td>\n",
       "      <td>156.92</td>\n",
       "    </tr>\n",
       "    <tr>\n",
       "      <th>48</th>\n",
       "      <td>15.639</td>\n",
       "      <td>223.88</td>\n",
       "    </tr>\n",
       "    <tr>\n",
       "      <th>49</th>\n",
       "      <td>16.430</td>\n",
       "      <td>271.78</td>\n",
       "    </tr>\n",
       "    <tr>\n",
       "      <th>50</th>\n",
       "      <td>17.165</td>\n",
       "      <td>349.52</td>\n",
       "    </tr>\n",
       "    <tr>\n",
       "      <th>51</th>\n",
       "      <td>17.848</td>\n",
       "      <td>429.66</td>\n",
       "    </tr>\n",
       "    <tr>\n",
       "      <th>52</th>\n",
       "      <td>18.519</td>\n",
       "      <td>523.03</td>\n",
       "    </tr>\n",
       "    <tr>\n",
       "      <th>53</th>\n",
       "      <td>19.280</td>\n",
       "      <td>622.05</td>\n",
       "    </tr>\n",
       "    <tr>\n",
       "      <th>54</th>\n",
       "      <td>19.890</td>\n",
       "      <td>748.29</td>\n",
       "    </tr>\n",
       "    <tr>\n",
       "      <th>55</th>\n",
       "      <td>19.324</td>\n",
       "      <td>646.89</td>\n",
       "    </tr>\n",
       "    <tr>\n",
       "      <th>56</th>\n",
       "      <td>20.065</td>\n",
       "      <td>749.27</td>\n",
       "    </tr>\n",
       "    <tr>\n",
       "      <th>57</th>\n",
       "      <td>20.743</td>\n",
       "      <td>851.37</td>\n",
       "    </tr>\n",
       "    <tr>\n",
       "      <th>58</th>\n",
       "      <td>20.930</td>\n",
       "      <td>851.61</td>\n",
       "    </tr>\n",
       "  </tbody>\n",
       "</table>\n",
       "</div>"
      ],
      "text/plain": [
       "         0       1\n",
       "0    0.591   24.41\n",
       "1    4.703   54.98\n",
       "2    9.470   89.57\n",
       "3   11.615  114.26\n",
       "4   12.970  133.61\n",
       "5   15.190  202.14\n",
       "6   16.131  250.99\n",
       "7   16.872  321.31\n",
       "8   16.966  333.47\n",
       "9   17.355  373.79\n",
       "10  17.765  422.02\n",
       "11  17.877  447.41\n",
       "12  18.291  522.47\n",
       "13  18.610  549.53\n",
       "14   0.367   20.15\n",
       "15   2.150   39.12\n",
       "16   7.422   73.42\n",
       "17  12.786  134.03\n",
       "18  14.464  179.86\n",
       "19  16.075  262.52\n",
       "20  17.003  337.23\n",
       "21  17.868  432.68\n",
       "22  16.062  253.24\n",
       "23  17.159  346.62\n",
       "24  17.979  450.10\n",
       "25  18.523  552.22\n",
       "26  19.330  656.20\n",
       "27   1.418   33.84\n",
       "28   5.556   60.41\n",
       "29   9.959   94.88\n",
       "30  13.564  147.73\n",
       "31  15.473  206.76\n",
       "32  16.114  237.12\n",
       "33  17.368  372.72\n",
       "34  18.271  495.47\n",
       "35  18.627  544.47\n",
       "36   0.943   28.93\n",
       "37   3.782   49.87\n",
       "38   8.920   85.15\n",
       "39  13.436  143.84\n",
       "40  15.651  226.86\n",
       "41  16.965  339.15\n",
       "42  17.339  393.32\n",
       "43  18.566  524.70\n",
       "44  19.100  623.86\n",
       "45   2.204   39.22\n",
       "46  10.040   96.44\n",
       "47  13.922  156.92\n",
       "48  15.639  223.88\n",
       "49  16.430  271.78\n",
       "50  17.165  349.52\n",
       "51  17.848  429.66\n",
       "52  18.519  523.03\n",
       "53  19.280  622.05\n",
       "54  19.890  748.29\n",
       "55  19.324  646.89\n",
       "56  20.065  749.27\n",
       "57  20.743  851.37\n",
       "58  20.930  851.61"
      ]
     },
     "execution_count": 85,
     "metadata": {},
     "output_type": "execute_result"
    }
   ],
   "source": [
    "data"
   ]
  },
  {
   "cell_type": "code",
   "execution_count": 38,
   "metadata": {},
   "outputs": [],
   "source": [
    "# Separate the X and Y variables\n",
    "temperature = data.iloc[:,1].values.tolist()\n",
    "coeff = data.iloc[:,0].values.tolist()"
   ]
  },
  {
   "cell_type": "code",
   "execution_count": 39,
   "metadata": {},
   "outputs": [],
   "source": [
    "X = np.array(temperature).reshape(-1,1)\n",
    "Y = np.array(coeff)"
   ]
  },
  {
   "cell_type": "markdown",
   "metadata": {},
   "source": [
    "# Part a"
   ]
  },
  {
   "cell_type": "code",
   "execution_count": 42,
   "metadata": {},
   "outputs": [],
   "source": [
    "# Fit a linear regression model\n",
    "xtrain, xtest, ytrain, ytest = train_test_split(X, Y, test_size=0.2)\n",
    "\n",
    "regression = LinearRegression()\n",
    "regression.fit(xtrain,ytrain)\n",
    "prediction = regression.predict(xtest)"
   ]
  },
  {
   "cell_type": "code",
   "execution_count": 43,
   "metadata": {},
   "outputs": [
    {
     "name": "stdout",
     "output_type": "stream",
     "text": [
      "The MSE of the model is 12.48\n",
      "The intercept is 7.7156\n",
      "The coefficient is 0.0205\n"
     ]
    }
   ],
   "source": [
    "print(\"The MSE of the model is {:.2f}\".format(mean_squared_error(ytest,prediction)))\n",
    "print(\"The intercept is {:.4f}\".format(regression.intercept_))\n",
    "print(\"The coefficient is {:.4f}\".format(regression.coef_[0]))"
   ]
  },
  {
   "cell_type": "markdown",
   "metadata": {},
   "source": [
    "# Part b"
   ]
  },
  {
   "cell_type": "code",
   "execution_count": 44,
   "metadata": {},
   "outputs": [],
   "source": [
    "# Fit a ridge regression model using a polynomial\n",
    "xtrain, xtest, ytrain, ytest = train_test_split(X, Y, test_size=0.2)\n",
    "\n",
    "polynomial = PolynomialFeatures(4)\n",
    "ridge = Ridge()\n",
    "\n",
    "# Convert input matrix to polynomial with n=4\n",
    "polyxtrain = polynomial.fit_transform(xtrain)\n",
    "polyxtest = polynomial.fit_transform(xtest)\n",
    "\n",
    "ridge.fit(polyxtrain,ytrain) \n",
    "\n",
    "prediction = ridge.predict(polyxtest)"
   ]
  },
  {
   "cell_type": "code",
   "execution_count": 45,
   "metadata": {},
   "outputs": [
    {
     "data": {
      "text/plain": [
       "0.1889319549018079"
      ]
     },
     "execution_count": 45,
     "metadata": {},
     "output_type": "execute_result"
    }
   ],
   "source": [
    "mean_squared_error(ytest,prediction)"
   ]
  },
  {
   "cell_type": "markdown",
   "metadata": {},
   "source": [
    "# Part c"
   ]
  },
  {
   "cell_type": "code",
   "execution_count": 73,
   "metadata": {},
   "outputs": [],
   "source": [
    "# Using K Folds to cross validate\n",
    "error=[]\n",
    "lambdavec=[]\n",
    "\n",
    "for i in range(-5000,5000):\n",
    "    scores = []\n",
    "    poly = PolynomialFeatures(4)\n",
    "    ridge = Ridge(alpha=i)\n",
    "\n",
    "    cv = KFold(n_splits=5, random_state=20, shuffle=True)\n",
    "\n",
    "    for trainIndex, testIndex in cv.split(X):\n",
    "\n",
    "        xtrain, xtest, ytrain, ytest = X[trainIndex], X[testIndex], Y[trainIndex], Y[testIndex]\n",
    "        polyxtrain = poly.fit_transform(xtrain)\n",
    "        polyxtest = poly.fit_transform(xtest)\n",
    "        \n",
    "        ridge.fit(polyxtrain, ytrain)\n",
    "        \n",
    "        prediction = ridge.predict(polyxtest)\n",
    "        scores.append(mean_squared_error(prediction, ytest))\n",
    "    \n",
    "\n",
    "    error.append(np.mean(scores))\n",
    "    lambdavec.append(i)"
   ]
  },
  {
   "cell_type": "code",
   "execution_count": 74,
   "metadata": {},
   "outputs": [
    {
     "data": {
      "image/png": "[encoded data removed]",
      "text/plain": [
       "<Figure size 432x288 with 1 Axes>"
      ]
     },
     "metadata": {
      "needs_background": "light"
     },
     "output_type": "display_data"
    }
   ],
   "source": [
    "plt.plot(lambdavec,error)\n",
    "plt.xlabel('Lambda')\n",
    "plt.ylabel('Cross Validation Error')\n",
    "plt.show()"
   ]
  },
  {
   "cell_type": "code",
   "execution_count": 75,
   "metadata": {},
   "outputs": [],
   "source": [
    "lowestLambda = error.index(min(error))"
   ]
  },
  {
   "cell_type": "code",
   "execution_count": 76,
   "metadata": {},
   "outputs": [
    {
     "name": "stdout",
     "output_type": "stream",
     "text": [
      "The lowest error occurs at lambda = 53\n"
     ]
    }
   ],
   "source": [
    "print('The lowest error occurs at lambda = {}'.format(lambdavec[lowestLambda]))"
   ]
  },
  {
   "cell_type": "markdown",
   "metadata": {},
   "source": [
    "# Part d"
   ]
  },
  {
   "cell_type": "code",
   "execution_count": 77,
   "metadata": {},
   "outputs": [
    {
     "name": "stdout",
     "output_type": "stream",
     "text": [
      "The coefficient of thermal expansion at 400K is 15.90\n"
     ]
    }
   ],
   "source": [
    "prediction400 = regression.intercept_ + regression.coef_*400\n",
    "\n",
    "print(\"The coefficient of thermal expansion at 400K is {:.2f}\".format(prediction400[0]))"
   ]
  },
  {
   "cell_type": "code",
   "execution_count": 78,
   "metadata": {},
   "outputs": [],
   "source": [
    "ridge = Ridge(alpha=lambdavec[lowestLambda])\n",
    "polynomial = PolynomialFeatures(4)\n",
    "polyx = polynomial.fit_transform(X)   \n",
    "ridge.fit(polyx, Y)\n",
    "\n",
    "# Predicting the coefficient at 400 kelvin using the polynomial equation\n",
    "prediction400ridge = ridge.intercept_ + ridge.coef_[1]*400 + ridge.coef_[2]*400**2 +ridge.coef_[3]*400**3 + ridge.coef_[4]*400**4"
   ]
  },
  {
   "cell_type": "code",
   "execution_count": 80,
   "metadata": {},
   "outputs": [
    {
     "name": "stdout",
     "output_type": "stream",
     "text": [
      "The coefficient of thermal expansion at 400K is 17.48\n"
     ]
    }
   ],
   "source": [
    "print(\"The coefficient of thermal expansion at 400K is {:.2f}\".format(prediction400ridge))"
   ]
  },
  {
   "cell_type": "code",
   "execution_count": 81,
   "metadata": {},
   "outputs": [
    {
     "data": {
      "text/plain": [
       "0.2199038458939904"
      ]
     },
     "execution_count": 81,
     "metadata": {},
     "output_type": "execute_result"
    }
   ],
   "source": [
    "mean_squared_error(Y,ridge.predict(polyx))"
   ]
  },
  {
   "cell_type": "code",
   "execution_count": null,
   "metadata": {},
   "outputs": [],
   "source": []
  }
 ],
 "metadata": {
  "kernelspec": {
   "display_name": "Python 3",
   "language": "python",
   "name": "python3"
  },
  "language_info": {
   "codemirror_mode": {
    "name": "ipython",
    "version": 3
   },
   "file_extension": ".py",
   "mimetype": "text/x-python",
   "name": "python",
   "nbconvert_exporter": "python",
   "pygments_lexer": "ipython3",
   "version": "3.7.4"
  }
 },
 "nbformat": 4,
 "nbformat_minor": 2
}
